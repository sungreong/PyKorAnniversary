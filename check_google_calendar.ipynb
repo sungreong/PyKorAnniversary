{
 "cells": [
  {
   "cell_type": "code",
   "execution_count": 1,
   "metadata": {},
   "outputs": [],
   "source": [
    "%load_ext autoreload\n",
    "%autoreload 2"
   ]
  },
  {
   "cell_type": "code",
   "execution_count": 2,
   "metadata": {},
   "outputs": [],
   "source": [
    "\n",
    "import sys\n",
    "sys.path.append(\"./\")"
   ]
  },
  {
   "cell_type": "code",
   "execution_count": 3,
   "metadata": {},
   "outputs": [],
   "source": [
    "from google_calendar_api.cal_setup import get_calendar_service"
   ]
  },
  {
   "cell_type": "code",
   "execution_count": 5,
   "metadata": {},
   "outputs": [],
   "source": [
    "service = get_calendar_service()"
   ]
  },
  {
   "cell_type": "code",
   "execution_count": 68,
   "metadata": {},
   "outputs": [],
   "source": [
    "from google_calendar_api.control import CalendarControl"
   ]
  },
  {
   "cell_type": "code",
   "execution_count": 69,
   "metadata": {},
   "outputs": [],
   "source": [
    "CC = CalendarControl()"
   ]
  },
  {
   "cell_type": "code",
   "execution_count": 83,
   "metadata": {},
   "outputs": [],
   "source": [
    "import datetime\n",
    "now = datetime.datetime.utcnow().isoformat() + \"Z\"  # 'Z' indicates UTC time\n",
    "list_dict = dict( timeMin=now, maxResults=1, singleEvents=True, orderBy=\"startTime\")\n",
    "events = []\n",
    "#events = CC.get_event_list(calendarId=\"primary\",list_func_dict=list_dict)"
   ]
  },
  {
   "cell_type": "code",
   "execution_count": 84,
   "metadata": {},
   "outputs": [],
   "source": [
    "\n",
    "for event in events:\n",
    "    start = event[\"start\"].get(\"dateTime\", event[\"start\"].get(\"date\"))\n",
    "    print(start, event , event[\"summary\"])\n"
   ]
  },
  {
   "cell_type": "markdown",
   "metadata": {},
   "source": [
    "# Create Event"
   ]
  },
  {
   "cell_type": "code",
   "execution_count": 96,
   "metadata": {},
   "outputs": [
    {
     "name": "stdout",
     "output_type": "stream",
     "text": [
      "created event\n",
      "id:  hgkdmj66jenu92q5u3dcga4rc8\n",
      "summary:  Automating calendar\n",
      "starts at:  2022-02-13T13:30:00+09:00\n",
      "ends at:  2022-02-13T14:30:00+09:00\n"
     ]
    },
    {
     "data": {
      "text/plain": [
       "{'kind': 'calendar#event',\n",
       " 'etag': '\"3289319129654000\"',\n",
       " 'id': 'hgkdmj66jenu92q5u3dcga4rc8',\n",
       " 'status': 'confirmed',\n",
       " 'htmlLink': 'https://www.google.com/calendar/event?eid=aGdrZG1qNjZqZW51OTJxNXUzZGNnYTRyYzggbGVlc3VuZ3Jlb25nQG0',\n",
       " 'created': '2022-02-12T09:52:44.000Z',\n",
       " 'updated': '2022-02-12T09:52:44.827Z',\n",
       " 'summary': 'Automating calendar',\n",
       " 'description': 'This is a tutorial example of automating google calendar with python',\n",
       " 'creator': {'email': 'leesungreong@gmail.com', 'self': True},\n",
       " 'organizer': {'email': 'leesungreong@gmail.com', 'self': True},\n",
       " 'start': {'dateTime': '2022-02-13T13:30:00+09:00',\n",
       "  'timeZone': 'Asia/Kolkata'},\n",
       " 'end': {'dateTime': '2022-02-13T14:30:00+09:00', 'timeZone': 'Asia/Kolkata'},\n",
       " 'iCalUID': 'hgkdmj66jenu92q5u3dcga4rc8@google.com',\n",
       " 'sequence': 0,\n",
       " 'reminders': {'useDefault': True},\n",
       " 'eventType': 'default'}"
      ]
     },
     "execution_count": 96,
     "metadata": {},
     "output_type": "execute_result"
    }
   ],
   "source": [
    "from datetime import datetime, timedelta\n",
    "\n",
    "\n",
    "d = datetime.now().date()\n",
    "tomorrow = datetime(d.year, d.month, d.day, 10) + timedelta(days=1)\n",
    "start = tomorrow.isoformat()\n",
    "end = (tomorrow + timedelta(hours=1)).isoformat()\n",
    "\n",
    "body = {\n",
    "            \"summary\": \"Automating calendar\",\n",
    "            \"description\": \"This is a tutorial example of automating google calendar with python\",\n",
    "            \"start\": {\"dateTime\": start, \"timeZone\": \"Asia/Kolkata\"},\n",
    "            \"end\": {\"dateTime\": end, \"timeZone\": \"Asia/Kolkata\"},\n",
    "        }\n",
    "event_result = CC.create_event(calendarId=\"primary\", body = body)\n",
    "event_result\n"
   ]
  },
  {
   "cell_type": "code",
   "execution_count": 97,
   "metadata": {},
   "outputs": [
    {
     "data": {
      "text/plain": [
       "'hgkdmj66jenu92q5u3dcga4rc8@google.com'"
      ]
     },
     "execution_count": 97,
     "metadata": {},
     "output_type": "execute_result"
    }
   ],
   "source": [
    "event_result['iCalUID']"
   ]
  },
  {
   "cell_type": "markdown",
   "metadata": {},
   "source": [
    "# Get Event"
   ]
  },
  {
   "cell_type": "code",
   "execution_count": 98,
   "metadata": {},
   "outputs": [
    {
     "name": "stdout",
     "output_type": "stream",
     "text": [
      "2022-02-13T13:30:00+09:00 Automating calendar\n"
     ]
    },
    {
     "data": {
      "text/plain": [
       "[{'kind': 'calendar#event',\n",
       "  'etag': '\"3289319129654000\"',\n",
       "  'id': 'hgkdmj66jenu92q5u3dcga4rc8',\n",
       "  'status': 'confirmed',\n",
       "  'htmlLink': 'https://www.google.com/calendar/event?eid=aGdrZG1qNjZqZW51OTJxNXUzZGNnYTRyYzggbGVlc3VuZ3Jlb25nQG0',\n",
       "  'created': '2022-02-12T09:52:44.000Z',\n",
       "  'updated': '2022-02-12T09:52:44.827Z',\n",
       "  'summary': 'Automating calendar',\n",
       "  'description': 'This is a tutorial example of automating google calendar with python',\n",
       "  'creator': {'email': 'leesungreong@gmail.com', 'self': True},\n",
       "  'organizer': {'email': 'leesungreong@gmail.com', 'self': True},\n",
       "  'start': {'dateTime': '2022-02-13T13:30:00+09:00',\n",
       "   'timeZone': 'Asia/Kolkata'},\n",
       "  'end': {'dateTime': '2022-02-13T14:30:00+09:00', 'timeZone': 'Asia/Kolkata'},\n",
       "  'iCalUID': 'hgkdmj66jenu92q5u3dcga4rc8@google.com',\n",
       "  'sequence': 0,\n",
       "  'reminders': {'useDefault': True},\n",
       "  'eventType': 'default'}]"
      ]
     },
     "execution_count": 98,
     "metadata": {},
     "output_type": "execute_result"
    }
   ],
   "source": [
    "CC.get_event(calendarId=\"primary\",iCaiUID=event_result[\"iCalUID\"])"
   ]
  },
  {
   "cell_type": "markdown",
   "metadata": {},
   "source": [
    "# Update Event"
   ]
  },
  {
   "cell_type": "code",
   "execution_count": 99,
   "metadata": {},
   "outputs": [],
   "source": [
    "event_id = event_result[\"id\"]"
   ]
  },
  {
   "cell_type": "code",
   "execution_count": 100,
   "metadata": {},
   "outputs": [
    {
     "name": "stdout",
     "output_type": "stream",
     "text": [
      "updated event\n",
      "id:  hgkdmj66jenu92q5u3dcga4rc8\n",
      "summary:  Updated Automating calendar 222\n",
      "starts at:  2022-02-13T12:30:00+09:00\n",
      "ends at:  2022-02-13T14:30:00+09:00\n"
     ]
    }
   ],
   "source": [
    "d = datetime.now().date()\n",
    "tomorrow = datetime(d.year, d.month, d.day, 9)+timedelta(days=1)\n",
    "start = tomorrow.isoformat()\n",
    "end = (tomorrow + timedelta(hours=2)).isoformat()\n",
    "\n",
    "body={ \n",
    "    \"summary\": 'Updated Automating calendar 222',\n",
    "    \"description\": 'This is a tutorial example of automating google calendar with python, updated time.',\n",
    "    \"start\": {\"dateTime\": start, \"timeZone\": 'Asia/Kolkata'}, \n",
    "    \"end\": {\"dateTime\": end, \"timeZone\": 'Asia/Kolkata'},\n",
    "}\n",
    "\n",
    "event_result = CC.update_event(calendarId=\"primary\",eventId= event_id, body = body)"
   ]
  },
  {
   "cell_type": "code",
   "execution_count": 101,
   "metadata": {},
   "outputs": [
    {
     "name": "stdout",
     "output_type": "stream",
     "text": [
      "2022-02-13T12:30:00+09:00 Updated Automating calendar 222\n"
     ]
    },
    {
     "data": {
      "text/plain": [
       "[{'kind': 'calendar#event',\n",
       "  'etag': '\"3289319139704000\"',\n",
       "  'id': 'hgkdmj66jenu92q5u3dcga4rc8',\n",
       "  'status': 'confirmed',\n",
       "  'htmlLink': 'https://www.google.com/calendar/event?eid=aGdrZG1qNjZqZW51OTJxNXUzZGNnYTRyYzggbGVlc3VuZ3Jlb25nQG0',\n",
       "  'created': '2022-02-12T09:52:44.000Z',\n",
       "  'updated': '2022-02-12T09:52:49.852Z',\n",
       "  'summary': 'Updated Automating calendar 222',\n",
       "  'description': 'This is a tutorial example of automating google calendar with python, updated time.',\n",
       "  'creator': {'email': 'leesungreong@gmail.com', 'self': True},\n",
       "  'organizer': {'email': 'leesungreong@gmail.com', 'self': True},\n",
       "  'start': {'dateTime': '2022-02-13T12:30:00+09:00',\n",
       "   'timeZone': 'Asia/Kolkata'},\n",
       "  'end': {'dateTime': '2022-02-13T14:30:00+09:00', 'timeZone': 'Asia/Kolkata'},\n",
       "  'iCalUID': 'hgkdmj66jenu92q5u3dcga4rc8@google.com',\n",
       "  'sequence': 1,\n",
       "  'reminders': {'useDefault': True},\n",
       "  'eventType': 'default'}]"
      ]
     },
     "execution_count": 101,
     "metadata": {},
     "output_type": "execute_result"
    }
   ],
   "source": [
    "CC.get_event(calendarId=\"primary\",iCaiUID=event_result[\"iCalUID\"])"
   ]
  },
  {
   "cell_type": "markdown",
   "metadata": {},
   "source": [
    "## Delete Event"
   ]
  },
  {
   "cell_type": "code",
   "execution_count": 102,
   "metadata": {},
   "outputs": [],
   "source": [
    "CC.delete_event(calendarId=\"primary\",eventId = event_result[\"id\"])"
   ]
  },
  {
   "cell_type": "code",
   "execution_count": 103,
   "metadata": {},
   "outputs": [
    {
     "name": "stdout",
     "output_type": "stream",
     "text": [
      "No upcoming events found.\n"
     ]
    },
    {
     "data": {
      "text/plain": [
       "[]"
      ]
     },
     "execution_count": 103,
     "metadata": {},
     "output_type": "execute_result"
    }
   ],
   "source": [
    "CC.get_event(calendarId=\"primary\",iCaiUID=event_result[\"iCalUID\"])"
   ]
  },
  {
   "cell_type": "code",
   "execution_count": null,
   "metadata": {},
   "outputs": [],
   "source": []
  }
 ],
 "metadata": {
  "interpreter": {
   "hash": "5810bcef67f31d12589faaefbf41e70dab9977e620049735851b888bf0ce1990"
  },
  "kernelspec": {
   "display_name": "Python 3.8.12 ('anni')",
   "language": "python",
   "name": "python3"
  },
  "language_info": {
   "codemirror_mode": {
    "name": "ipython",
    "version": 3
   },
   "file_extension": ".py",
   "mimetype": "text/x-python",
   "name": "python",
   "nbconvert_exporter": "python",
   "pygments_lexer": "ipython3",
   "version": "3.8.12"
  },
  "orig_nbformat": 4
 },
 "nbformat": 4,
 "nbformat_minor": 2
}
