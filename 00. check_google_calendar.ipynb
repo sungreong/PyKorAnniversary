{
 "cells": [
  {
   "cell_type": "code",
   "execution_count": 1,
   "metadata": {},
   "outputs": [],
   "source": [
    "%load_ext autoreload\n",
    "%autoreload 2"
   ]
  },
  {
   "cell_type": "code",
   "execution_count": 1,
   "metadata": {},
   "outputs": [],
   "source": [
    "\n",
    "import sys\n",
    "sys.path.append(\"./\")"
   ]
  },
  {
   "cell_type": "code",
   "execution_count": 2,
   "metadata": {},
   "outputs": [],
   "source": [
    "from google_calendar_api.cal_setup import get_calendar_service"
   ]
  },
  {
   "cell_type": "code",
   "execution_count": 3,
   "metadata": {},
   "outputs": [],
   "source": [
    "service = get_calendar_service()"
   ]
  },
  {
   "cell_type": "code",
   "execution_count": 4,
   "metadata": {},
   "outputs": [],
   "source": [
    "from google_calendar_api.control import CalendarControl"
   ]
  },
  {
   "cell_type": "code",
   "execution_count": 5,
   "metadata": {},
   "outputs": [],
   "source": [
    "CC = CalendarControl()"
   ]
  },
  {
   "cell_type": "code",
   "execution_count": 11,
   "metadata": {},
   "outputs": [
    {
     "data": {
      "text/plain": [
       "{'kind': 'calendar#events',\n",
       " 'etag': '\"p334fpjf3i7tfa0g\"',\n",
       " 'summary': 'leesungreong@gmail.com',\n",
       " 'updated': '2022-02-12T12:13:29.021Z',\n",
       " 'timeZone': 'Asia/Seoul',\n",
       " 'accessRole': 'owner',\n",
       " 'defaultReminders': [{'method': 'popup', 'minutes': 10},\n",
       "  {'method': 'email', 'minutes': 10}],\n",
       " 'nextPageToken': 'Ek4KQ2Nnc2owcGhpNjByM2NiYjZjb3NtNGI5a2NsZ2o4YjlvY2xpM2diOWw2NHNqY29qNWNsaTZhcDlpYzRfMjAyMjAyMTIYgMC86u349QIiBwgFEMmK7x8=',\n",
       " 'items': [{'kind': 'calendar#event',\n",
       "   'etag': '\"3056755271638000\"',\n",
       "   'id': 'cgsj0phi60r3cbb6cosm4b9kclgj8b9ocli3gb9l64sjcoj5cli6ap9ic4_20220212',\n",
       "   'status': 'tentative',\n",
       "   'htmlLink': 'https://www.google.com/calendar/event?eid=Y2dzajBwaGk2MHIzY2JiNmNvc200YjlrY2xnajhiOW9jbGkzZ2I5bDY0c2pjb2o1Y2xpNmFwOWljNF8yMDIyMDIxMiBsZWVzdW5ncmVvbmdAbQ',\n",
       "   'created': '2017-12-03T23:31:15.000Z',\n",
       "   'updated': '2018-09-11T00:11:48.484Z',\n",
       "   'summary': '#고정비#청약저축2만원씩 넣기',\n",
       "   'description': '월세30  / 흥국화재51000  우체국 / 교통비 신한카드 /핸드폰 요금/카카오 5만원 적금 돈넣기',\n",
       "   'creator': {'email': 'leesungreong@gmail.com',\n",
       "    'displayName': '이성령',\n",
       "    'self': True},\n",
       "   'organizer': {'email': 'leesungreong@gmail.com',\n",
       "    'displayName': '이성령',\n",
       "    'self': True},\n",
       "   'start': {'date': '2022-02-12'},\n",
       "   'end': {'date': '2022-02-13'},\n",
       "   'recurringEventId': 'cgsj0phi60r3cbb6cosm4b9kclgj8b9ocli3gb9l64sjcoj5cli6ap9ic4',\n",
       "   'originalStartTime': {'date': '2022-02-12'},\n",
       "   'iCalUID': 'cgsj0phi60r3cbb6cosm4b9kclgj8b9ocli3gb9l64sjcoj5cli6ap9ic4@google.com',\n",
       "   'sequence': 2,\n",
       "   'reminders': {'useDefault': False,\n",
       "    'overrides': [{'method': 'popup', 'minutes': 900}]},\n",
       "   'eventType': 'default'}]}"
      ]
     },
     "execution_count": 11,
     "metadata": {},
     "output_type": "execute_result"
    }
   ],
   "source": [
    "import datetime\n",
    "now = datetime.datetime.utcnow().isoformat() + \"Z\"  # 'Z' indicates UTC time\n",
    "list_dict = dict( timeMin=now, maxResults=1, singleEvents=True, orderBy=\"startTime\")\n",
    "events = []\n",
    "events = CC.get_event_list(calendarId=\"primary\",list_func_dict=list_dict)\n",
    "events"
   ]
  },
  {
   "cell_type": "code",
   "execution_count": 10,
   "metadata": {},
   "outputs": [
    {
     "name": "stdout",
     "output_type": "stream",
     "text": [
      "2022-02-12T12:21:21.164001Z\n"
     ]
    }
   ],
   "source": [
    "import datetime\n",
    "now = datetime.datetime.utcnow().isoformat() + \"Z\"\n",
    "print(now)"
   ]
  },
  {
   "cell_type": "code",
   "execution_count": 7,
   "metadata": {},
   "outputs": [],
   "source": [
    "\n",
    "for event in events:\n",
    "    start , event = event[\"start\"].get(\"dateTime\", event[\"start\"].get(\"date\"))\n",
    "    print(start, event , event[\"summary\"])\n"
   ]
  },
  {
   "cell_type": "markdown",
   "metadata": {},
   "source": [
    "# Create Event"
   ]
  },
  {
   "cell_type": "code",
   "execution_count": 8,
   "metadata": {},
   "outputs": [
    {
     "ename": "HttpError",
     "evalue": "<HttpError 400 when requesting https://www.googleapis.com/calendar/v3/calendars/primary/events?alt=json returned \"Missing end time.\". Details: \"[{'domain': 'global', 'reason': 'required', 'message': 'Missing end time.'}]\">",
     "output_type": "error",
     "traceback": [
      "\u001b[0;31m---------------------------------------------------------------------------\u001b[0m",
      "\u001b[0;31mHttpError\u001b[0m                                 Traceback (most recent call last)",
      "\u001b[1;32m/home/jovyan/local/1_user/srlee@agilesoda.ai/PyKorAnniversary/00. check_google_calendar.ipynb Cell 10'\u001b[0m in \u001b[0;36m<module>\u001b[0;34m\u001b[0m\n\u001b[1;32m      <a href='vscode-notebook-cell://attached-container%2B7b22636f6e7461696e65724e616d65223a222f6a7570797465722d73726c65655f34306167696c65736f64615f32456169222c2273657474696e6773223a7b22686f7374223a227373683a2f2f433938227d7d/home/jovyan/local/1_user/srlee%40agilesoda.ai/PyKorAnniversary/00.%20check_google_calendar.ipynb#ch0000009vscode-remote?line=6'>7</a>\u001b[0m end \u001b[39m=\u001b[39m (tomorrow \u001b[39m+\u001b[39m timedelta(hours\u001b[39m=\u001b[39m\u001b[39m1\u001b[39m))\u001b[39m.\u001b[39misoformat()\n\u001b[1;32m      <a href='vscode-notebook-cell://attached-container%2B7b22636f6e7461696e65724e616d65223a222f6a7570797465722d73726c65655f34306167696c65736f64615f32456169222c2273657474696e6773223a7b22686f7374223a227373683a2f2f433938227d7d/home/jovyan/local/1_user/srlee%40agilesoda.ai/PyKorAnniversary/00.%20check_google_calendar.ipynb#ch0000009vscode-remote?line=8'>9</a>\u001b[0m body \u001b[39m=\u001b[39m {\n\u001b[1;32m     <a href='vscode-notebook-cell://attached-container%2B7b22636f6e7461696e65724e616d65223a222f6a7570797465722d73726c65655f34306167696c65736f64615f32456169222c2273657474696e6773223a7b22686f7374223a227373683a2f2f433938227d7d/home/jovyan/local/1_user/srlee%40agilesoda.ai/PyKorAnniversary/00.%20check_google_calendar.ipynb#ch0000009vscode-remote?line=9'>10</a>\u001b[0m             \u001b[39m\"\u001b[39m\u001b[39msummary\u001b[39m\u001b[39m\"\u001b[39m: \u001b[39m\"\u001b[39m\u001b[39mAutomating calendar\u001b[39m\u001b[39m\"\u001b[39m,\n\u001b[1;32m     <a href='vscode-notebook-cell://attached-container%2B7b22636f6e7461696e65724e616d65223a222f6a7570797465722d73726c65655f34306167696c65736f64615f32456169222c2273657474696e6773223a7b22686f7374223a227373683a2f2f433938227d7d/home/jovyan/local/1_user/srlee%40agilesoda.ai/PyKorAnniversary/00.%20check_google_calendar.ipynb#ch0000009vscode-remote?line=10'>11</a>\u001b[0m             \u001b[39m\"\u001b[39m\u001b[39mdescription\u001b[39m\u001b[39m\"\u001b[39m: \u001b[39m\"\u001b[39m\u001b[39mThis is a tutorial example of automating google calendar with python\u001b[39m\u001b[39m\"\u001b[39m,\n\u001b[1;32m     <a href='vscode-notebook-cell://attached-container%2B7b22636f6e7461696e65724e616d65223a222f6a7570797465722d73726c65655f34306167696c65736f64615f32456169222c2273657474696e6773223a7b22686f7374223a227373683a2f2f433938227d7d/home/jovyan/local/1_user/srlee%40agilesoda.ai/PyKorAnniversary/00.%20check_google_calendar.ipynb#ch0000009vscode-remote?line=11'>12</a>\u001b[0m             \u001b[39m#\"start\": {\"dateTime\": start, \"timeZone\": \"Asia/Kolkata\"},\u001b[39;00m\n\u001b[1;32m     <a href='vscode-notebook-cell://attached-container%2B7b22636f6e7461696e65724e616d65223a222f6a7570797465722d73726c65655f34306167696c65736f64615f32456169222c2273657474696e6773223a7b22686f7374223a227373683a2f2f433938227d7d/home/jovyan/local/1_user/srlee%40agilesoda.ai/PyKorAnniversary/00.%20check_google_calendar.ipynb#ch0000009vscode-remote?line=12'>13</a>\u001b[0m             \u001b[39m#\"end\": {\"dateTime\": end, \"timeZone\": \"Asia/Kolkata\"},\u001b[39;00m\n\u001b[1;32m     <a href='vscode-notebook-cell://attached-container%2B7b22636f6e7461696e65724e616d65223a222f6a7570797465722d73726c65655f34306167696c65736f64615f32456169222c2273657474696e6773223a7b22686f7374223a227373683a2f2f433938227d7d/home/jovyan/local/1_user/srlee%40agilesoda.ai/PyKorAnniversary/00.%20check_google_calendar.ipynb#ch0000009vscode-remote?line=13'>14</a>\u001b[0m         }\n\u001b[0;32m---> <a href='vscode-notebook-cell://attached-container%2B7b22636f6e7461696e65724e616d65223a222f6a7570797465722d73726c65655f34306167696c65736f64615f32456169222c2273657474696e6773223a7b22686f7374223a227373683a2f2f433938227d7d/home/jovyan/local/1_user/srlee%40agilesoda.ai/PyKorAnniversary/00.%20check_google_calendar.ipynb#ch0000009vscode-remote?line=14'>15</a>\u001b[0m event_result \u001b[39m=\u001b[39m CC\u001b[39m.\u001b[39;49mcreate_event(calendarId\u001b[39m=\u001b[39;49m\u001b[39m\"\u001b[39;49m\u001b[39mprimary\u001b[39;49m\u001b[39m\"\u001b[39;49m, body \u001b[39m=\u001b[39;49m body)\n\u001b[1;32m     <a href='vscode-notebook-cell://attached-container%2B7b22636f6e7461696e65724e616d65223a222f6a7570797465722d73726c65655f34306167696c65736f64615f32456169222c2273657474696e6773223a7b22686f7374223a227373683a2f2f433938227d7d/home/jovyan/local/1_user/srlee%40agilesoda.ai/PyKorAnniversary/00.%20check_google_calendar.ipynb#ch0000009vscode-remote?line=15'>16</a>\u001b[0m event_result\n",
      "File \u001b[0;32m~/local/1_user/srlee@agilesoda.ai/PyKorAnniversary/google_calendar_api/control.py:62\u001b[0m, in \u001b[0;36mCalendarControl.create_event\u001b[0;34m(self, calendarId, body, insert_func_dict)\u001b[0m\n\u001b[1;32m     <a href='file:///~/local/1_user/srlee%40agilesoda.ai/PyKorAnniversary/google_calendar_api/control.py?line=59'>60</a>\u001b[0m insert_args[\u001b[39m\"\u001b[39m\u001b[39mcalendarId\u001b[39m\u001b[39m\"\u001b[39m] \u001b[39m=\u001b[39m calendarId\n\u001b[1;32m     <a href='file:///~/local/1_user/srlee%40agilesoda.ai/PyKorAnniversary/google_calendar_api/control.py?line=60'>61</a>\u001b[0m insert_args[\u001b[39m\"\u001b[39m\u001b[39mbody\u001b[39m\u001b[39m\"\u001b[39m] \u001b[39m=\u001b[39m body\n\u001b[0;32m---> <a href='file:///~/local/1_user/srlee%40agilesoda.ai/PyKorAnniversary/google_calendar_api/control.py?line=61'>62</a>\u001b[0m event_result \u001b[39m=\u001b[39m \u001b[39mself\u001b[39;49m\u001b[39m.\u001b[39;49mservice\u001b[39m.\u001b[39;49mevents()\u001b[39m.\u001b[39;49minsert(\u001b[39m*\u001b[39;49m\u001b[39m*\u001b[39;49minsert_args)\u001b[39m.\u001b[39;49mexecute()\n\u001b[1;32m     <a href='file:///~/local/1_user/srlee%40agilesoda.ai/PyKorAnniversary/google_calendar_api/control.py?line=62'>63</a>\u001b[0m \u001b[39mprint\u001b[39m(\u001b[39m\"\u001b[39m\u001b[39mcreated event\u001b[39m\u001b[39m\"\u001b[39m)\n\u001b[1;32m     <a href='file:///~/local/1_user/srlee%40agilesoda.ai/PyKorAnniversary/google_calendar_api/control.py?line=63'>64</a>\u001b[0m \u001b[39mprint\u001b[39m(\u001b[39m\"\u001b[39m\u001b[39mid: \u001b[39m\u001b[39m\"\u001b[39m, event_result[\u001b[39m\"\u001b[39m\u001b[39mid\u001b[39m\u001b[39m\"\u001b[39m])\n",
      "File \u001b[0;32m/opt/conda/envs/anni/lib/python3.8/site-packages/googleapiclient/_helpers.py:131\u001b[0m, in \u001b[0;36mpositional.<locals>.positional_decorator.<locals>.positional_wrapper\u001b[0;34m(*args, **kwargs)\u001b[0m\n\u001b[1;32m    <a href='file:///opt/conda/envs/anni/lib/python3.8/site-packages/googleapiclient/_helpers.py?line=128'>129</a>\u001b[0m     \u001b[39melif\u001b[39;00m positional_parameters_enforcement \u001b[39m==\u001b[39m POSITIONAL_WARNING:\n\u001b[1;32m    <a href='file:///opt/conda/envs/anni/lib/python3.8/site-packages/googleapiclient/_helpers.py?line=129'>130</a>\u001b[0m         logger\u001b[39m.\u001b[39mwarning(message)\n\u001b[0;32m--> <a href='file:///opt/conda/envs/anni/lib/python3.8/site-packages/googleapiclient/_helpers.py?line=130'>131</a>\u001b[0m \u001b[39mreturn\u001b[39;00m wrapped(\u001b[39m*\u001b[39;49margs, \u001b[39m*\u001b[39;49m\u001b[39m*\u001b[39;49mkwargs)\n",
      "File \u001b[0;32m/opt/conda/envs/anni/lib/python3.8/site-packages/googleapiclient/http.py:937\u001b[0m, in \u001b[0;36mHttpRequest.execute\u001b[0;34m(self, http, num_retries)\u001b[0m\n\u001b[1;32m    <a href='file:///opt/conda/envs/anni/lib/python3.8/site-packages/googleapiclient/http.py?line=934'>935</a>\u001b[0m     callback(resp)\n\u001b[1;32m    <a href='file:///opt/conda/envs/anni/lib/python3.8/site-packages/googleapiclient/http.py?line=935'>936</a>\u001b[0m \u001b[39mif\u001b[39;00m resp\u001b[39m.\u001b[39mstatus \u001b[39m>\u001b[39m\u001b[39m=\u001b[39m \u001b[39m300\u001b[39m:\n\u001b[0;32m--> <a href='file:///opt/conda/envs/anni/lib/python3.8/site-packages/googleapiclient/http.py?line=936'>937</a>\u001b[0m     \u001b[39mraise\u001b[39;00m HttpError(resp, content, uri\u001b[39m=\u001b[39m\u001b[39mself\u001b[39m\u001b[39m.\u001b[39muri)\n\u001b[1;32m    <a href='file:///opt/conda/envs/anni/lib/python3.8/site-packages/googleapiclient/http.py?line=937'>938</a>\u001b[0m \u001b[39mreturn\u001b[39;00m \u001b[39mself\u001b[39m\u001b[39m.\u001b[39mpostproc(resp, content)\n",
      "\u001b[0;31mHttpError\u001b[0m: <HttpError 400 when requesting https://www.googleapis.com/calendar/v3/calendars/primary/events?alt=json returned \"Missing end time.\". Details: \"[{'domain': 'global', 'reason': 'required', 'message': 'Missing end time.'}]\">"
     ]
    }
   ],
   "source": [
    "from datetime import datetime, timedelta\n",
    "\n",
    "\n",
    "d = datetime.now().date()\n",
    "tomorrow = datetime(d.year, d.month, d.day, 10) + timedelta(days=1)\n",
    "start = tomorrow.isoformat()\n",
    "end = (tomorrow + timedelta(hours=1)).isoformat()\n",
    "\n",
    "body = {\n",
    "            \"summary\": \"Automating calendar\",\n",
    "            \"description\": \"This is a tutorial example of automating google calendar with python\",\n",
    "            \"start\": {\"dateTime\": start, \"timeZone\": \"Asia/Kolkata\"},\n",
    "            \"end\": {\"dateTime\": end, \"timeZone\": \"Asia/Kolkata\"},\n",
    "        }\n",
    "event_result = CC.create_event(calendarId=\"primary\", body = body)\n",
    "event_result\n"
   ]
  },
  {
   "cell_type": "code",
   "execution_count": 97,
   "metadata": {},
   "outputs": [
    {
     "data": {
      "text/plain": [
       "'hgkdmj66jenu92q5u3dcga4rc8@google.com'"
      ]
     },
     "execution_count": 97,
     "metadata": {},
     "output_type": "execute_result"
    }
   ],
   "source": [
    "event_result['iCalUID']"
   ]
  },
  {
   "cell_type": "markdown",
   "metadata": {},
   "source": [
    "# Get Event"
   ]
  },
  {
   "cell_type": "code",
   "execution_count": 98,
   "metadata": {},
   "outputs": [
    {
     "name": "stdout",
     "output_type": "stream",
     "text": [
      "2022-02-13T13:30:00+09:00 Automating calendar\n"
     ]
    },
    {
     "data": {
      "text/plain": [
       "[{'kind': 'calendar#event',\n",
       "  'etag': '\"3289319129654000\"',\n",
       "  'id': 'hgkdmj66jenu92q5u3dcga4rc8',\n",
       "  'status': 'confirmed',\n",
       "  'htmlLink': 'https://www.google.com/calendar/event?eid=aGdrZG1qNjZqZW51OTJxNXUzZGNnYTRyYzggbGVlc3VuZ3Jlb25nQG0',\n",
       "  'created': '2022-02-12T09:52:44.000Z',\n",
       "  'updated': '2022-02-12T09:52:44.827Z',\n",
       "  'summary': 'Automating calendar',\n",
       "  'description': 'This is a tutorial example of automating google calendar with python',\n",
       "  'creator': {'email': 'leesungreong@gmail.com', 'self': True},\n",
       "  'organizer': {'email': 'leesungreong@gmail.com', 'self': True},\n",
       "  'start': {'dateTime': '2022-02-13T13:30:00+09:00',\n",
       "   'timeZone': 'Asia/Kolkata'},\n",
       "  'end': {'dateTime': '2022-02-13T14:30:00+09:00', 'timeZone': 'Asia/Kolkata'},\n",
       "  'iCalUID': 'hgkdmj66jenu92q5u3dcga4rc8@google.com',\n",
       "  'sequence': 0,\n",
       "  'reminders': {'useDefault': True},\n",
       "  'eventType': 'default'}]"
      ]
     },
     "execution_count": 98,
     "metadata": {},
     "output_type": "execute_result"
    }
   ],
   "source": [
    "CC.get_event(calendarId=\"primary\",iCaiUID=event_result[\"iCalUID\"])"
   ]
  },
  {
   "cell_type": "markdown",
   "metadata": {},
   "source": [
    "# Update Event"
   ]
  },
  {
   "cell_type": "code",
   "execution_count": 99,
   "metadata": {},
   "outputs": [],
   "source": [
    "event_id = event_result[\"id\"]"
   ]
  },
  {
   "cell_type": "code",
   "execution_count": 100,
   "metadata": {},
   "outputs": [
    {
     "name": "stdout",
     "output_type": "stream",
     "text": [
      "updated event\n",
      "id:  hgkdmj66jenu92q5u3dcga4rc8\n",
      "summary:  Updated Automating calendar 222\n",
      "starts at:  2022-02-13T12:30:00+09:00\n",
      "ends at:  2022-02-13T14:30:00+09:00\n"
     ]
    }
   ],
   "source": [
    "d = datetime.now().date()\n",
    "tomorrow = datetime(d.year, d.month, d.day, 9)+timedelta(days=1)\n",
    "start = tomorrow.isoformat()\n",
    "end = (tomorrow + timedelta(hours=2)).isoformat()\n",
    "\n",
    "body={ \n",
    "    \"summary\": 'Updated Automating calendar 222',\n",
    "    \"description\": 'This is a tutorial example of automating google calendar with python, updated time.',\n",
    "    \"start\": {\"dateTime\": start, \"timeZone\": 'Asia/Kolkata'}, \n",
    "    \"end\": {\"dateTime\": end, \"timeZone\": 'Asia/Kolkata'},\n",
    "}\n",
    "\n",
    "event_result = CC.update_event(calendarId=\"primary\",eventId= event_id, body = body)"
   ]
  },
  {
   "cell_type": "code",
   "execution_count": 101,
   "metadata": {},
   "outputs": [
    {
     "name": "stdout",
     "output_type": "stream",
     "text": [
      "2022-02-13T12:30:00+09:00 Updated Automating calendar 222\n"
     ]
    },
    {
     "data": {
      "text/plain": [
       "[{'kind': 'calendar#event',\n",
       "  'etag': '\"3289319139704000\"',\n",
       "  'id': 'hgkdmj66jenu92q5u3dcga4rc8',\n",
       "  'status': 'confirmed',\n",
       "  'htmlLink': 'https://www.google.com/calendar/event?eid=aGdrZG1qNjZqZW51OTJxNXUzZGNnYTRyYzggbGVlc3VuZ3Jlb25nQG0',\n",
       "  'created': '2022-02-12T09:52:44.000Z',\n",
       "  'updated': '2022-02-12T09:52:49.852Z',\n",
       "  'summary': 'Updated Automating calendar 222',\n",
       "  'description': 'This is a tutorial example of automating google calendar with python, updated time.',\n",
       "  'creator': {'email': 'leesungreong@gmail.com', 'self': True},\n",
       "  'organizer': {'email': 'leesungreong@gmail.com', 'self': True},\n",
       "  'start': {'dateTime': '2022-02-13T12:30:00+09:00',\n",
       "   'timeZone': 'Asia/Kolkata'},\n",
       "  'end': {'dateTime': '2022-02-13T14:30:00+09:00', 'timeZone': 'Asia/Kolkata'},\n",
       "  'iCalUID': 'hgkdmj66jenu92q5u3dcga4rc8@google.com',\n",
       "  'sequence': 1,\n",
       "  'reminders': {'useDefault': True},\n",
       "  'eventType': 'default'}]"
      ]
     },
     "execution_count": 101,
     "metadata": {},
     "output_type": "execute_result"
    }
   ],
   "source": [
    "CC.get_event(calendarId=\"primary\",iCaiUID=event_result[\"iCalUID\"])"
   ]
  },
  {
   "cell_type": "markdown",
   "metadata": {},
   "source": [
    "## Delete Event"
   ]
  },
  {
   "cell_type": "code",
   "execution_count": 102,
   "metadata": {},
   "outputs": [],
   "source": [
    "CC.delete_event(calendarId=\"primary\",eventId = event_result[\"id\"])"
   ]
  },
  {
   "cell_type": "code",
   "execution_count": 103,
   "metadata": {},
   "outputs": [
    {
     "name": "stdout",
     "output_type": "stream",
     "text": [
      "No upcoming events found.\n"
     ]
    },
    {
     "data": {
      "text/plain": [
       "[]"
      ]
     },
     "execution_count": 103,
     "metadata": {},
     "output_type": "execute_result"
    }
   ],
   "source": [
    "CC.get_event(calendarId=\"primary\",iCaiUID=event_result[\"iCalUID\"])"
   ]
  },
  {
   "cell_type": "code",
   "execution_count": null,
   "metadata": {},
   "outputs": [],
   "source": []
  }
 ],
 "metadata": {
  "interpreter": {
   "hash": "5810bcef67f31d12589faaefbf41e70dab9977e620049735851b888bf0ce1990"
  },
  "kernelspec": {
   "display_name": "Python 3.8.12 ('anni')",
   "language": "python",
   "name": "python3"
  },
  "language_info": {
   "codemirror_mode": {
    "name": "ipython",
    "version": 3
   },
   "file_extension": ".py",
   "mimetype": "text/x-python",
   "name": "python",
   "nbconvert_exporter": "python",
   "pygments_lexer": "ipython3",
   "version": "3.8.12"
  },
  "orig_nbformat": 4
 },
 "nbformat": 4,
 "nbformat_minor": 2
}
