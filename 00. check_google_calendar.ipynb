{
 "cells": [
  {
   "cell_type": "code",
   "execution_count": 57,
   "metadata": {},
   "outputs": [
    {
     "name": "stdout",
     "output_type": "stream",
     "text": [
      "The autoreload extension is already loaded. To reload it, use:\n",
      "  %reload_ext autoreload\n"
     ]
    }
   ],
   "source": [
    "%load_ext autoreload\n",
    "%autoreload 2"
   ]
  },
  {
   "cell_type": "code",
   "execution_count": 58,
   "metadata": {},
   "outputs": [],
   "source": [
    "\n",
    "import sys\n",
    "sys.path.append(\"./src\")"
   ]
  },
  {
   "cell_type": "code",
   "execution_count": 59,
   "metadata": {},
   "outputs": [],
   "source": [
    "from src.google_calendar_api.cal_setup import get_calendar_service"
   ]
  },
  {
   "cell_type": "code",
   "execution_count": 39,
   "metadata": {},
   "outputs": [],
   "source": [
    "service = get_calendar_service()"
   ]
  },
  {
   "cell_type": "code",
   "execution_count": 40,
   "metadata": {},
   "outputs": [],
   "source": [
    "from src.google_calendar_api.control import CalendarControl"
   ]
  },
  {
   "cell_type": "code",
   "execution_count": 41,
   "metadata": {},
   "outputs": [],
   "source": [
    "CC = CalendarControl()"
   ]
  },
  {
   "cell_type": "code",
   "execution_count": 42,
   "metadata": {},
   "outputs": [
    {
     "data": {
      "text/plain": [
       "[]"
      ]
     },
     "execution_count": 42,
     "metadata": {},
     "output_type": "execute_result"
    }
   ],
   "source": [
    "import datetime\n",
    "now = datetime.datetime.utcnow().isoformat() + \"Z\"  # 'Z' indicates UTC time\n",
    "list_dict = dict( timeMin=now, maxResults=1, singleEvents=True, orderBy=\"startTime\")\n",
    "events = []\n",
    "# events = CC.get_event_list(calendarId=\"primary\",list_func_dict=list_dict)\n",
    "events"
   ]
  },
  {
   "cell_type": "code",
   "execution_count": 43,
   "metadata": {},
   "outputs": [
    {
     "name": "stdout",
     "output_type": "stream",
     "text": [
      "2022-02-12T12:43:28.480952Z\n"
     ]
    }
   ],
   "source": [
    "import datetime\n",
    "now = datetime.datetime.utcnow().isoformat() + \"Z\"\n",
    "print(now)"
   ]
  },
  {
   "cell_type": "code",
   "execution_count": 44,
   "metadata": {},
   "outputs": [],
   "source": [
    "\n",
    "for event in events:\n",
    "    start , event = event[\"start\"].get(\"dateTime\", event[\"start\"].get(\"date\"))\n",
    "    print(start, event , event[\"summary\"])\n"
   ]
  },
  {
   "cell_type": "markdown",
   "metadata": {},
   "source": [
    "# Create Event"
   ]
  },
  {
   "cell_type": "code",
   "execution_count": 50,
   "metadata": {},
   "outputs": [
    {
     "name": "stdout",
     "output_type": "stream",
     "text": [
      "created event\n",
      "id:  n8su45n9n3cenniemrs7rffsck\n",
      "summary:  Automating calendar\n"
     ]
    }
   ],
   "source": [
    "from datetime import datetime, timedelta\n",
    "\n",
    "\n",
    "d = datetime.now().date()\n",
    "tomorrow = datetime(d.year, d.month, d.day, 10) + timedelta(days=1)\n",
    "start = tomorrow.isoformat()\n",
    "end = (tomorrow + timedelta(hours=1)).isoformat()\n",
    "\n",
    "body = {\n",
    "            \"summary\": \"Automating calendar\",\n",
    "            \"description\": \"This is a tutorial example of automating google calendar with python\",\n",
    "            \"start\": {\"dateTime\": start, \"timeZone\": \"Asia/Kolkata\"},\n",
    "            \"end\": {\"dateTime\": end, \"timeZone\": \"Asia/Kolkata\"},\n",
    "        }\n",
    "event_result = CC.create_event(calendarId=\"primary\", body = body)\n"
   ]
  },
  {
   "cell_type": "markdown",
   "metadata": {},
   "source": [
    "# Get Event"
   ]
  },
  {
   "cell_type": "code",
   "execution_count": 51,
   "metadata": {},
   "outputs": [
    {
     "name": "stdout",
     "output_type": "stream",
     "text": [
      "2022-02-13T13:30:00+09:00 Automating calendar\n"
     ]
    },
    {
     "data": {
      "text/plain": [
       "'Automating calendar'"
      ]
     },
     "execution_count": 51,
     "metadata": {},
     "output_type": "execute_result"
    }
   ],
   "source": [
    "event = CC.get_event(calendarId=\"primary\",iCaiUID=event_result[\"iCalUID\"])\n",
    "event[0][\"summary\"]"
   ]
  },
  {
   "cell_type": "markdown",
   "metadata": {},
   "source": [
    "# Update Event"
   ]
  },
  {
   "cell_type": "code",
   "execution_count": 52,
   "metadata": {},
   "outputs": [],
   "source": [
    "event_id = event_result[\"id\"]"
   ]
  },
  {
   "cell_type": "code",
   "execution_count": 53,
   "metadata": {},
   "outputs": [
    {
     "name": "stdout",
     "output_type": "stream",
     "text": [
      "updated event\n",
      "id:  n8su45n9n3cenniemrs7rffsck\n",
      "summary:  Updated Automating calendar 222\n",
      "starts at:  2022-02-13T12:30:00+09:00\n",
      "ends at:  2022-02-13T14:30:00+09:00\n"
     ]
    }
   ],
   "source": [
    "d = datetime.now().date()\n",
    "tomorrow = datetime(d.year, d.month, d.day, 9)+timedelta(days=1)\n",
    "start = tomorrow.isoformat()\n",
    "end = (tomorrow + timedelta(hours=2)).isoformat()\n",
    "\n",
    "body={ \n",
    "    \"summary\": 'Updated Automating calendar 222',\n",
    "    \"description\": 'This is a tutorial example of automating google calendar with python, updated time.',\n",
    "    \"start\": {\"dateTime\": start, \"timeZone\": 'Asia/Kolkata'}, \n",
    "    \"end\": {\"dateTime\": end, \"timeZone\": 'Asia/Kolkata'},\n",
    "}\n",
    "\n",
    "event_result = CC.update_event(calendarId=\"primary\",eventId= event_id, body = body)"
   ]
  },
  {
   "cell_type": "code",
   "execution_count": 54,
   "metadata": {},
   "outputs": [
    {
     "name": "stdout",
     "output_type": "stream",
     "text": [
      "2022-02-13T12:30:00+09:00 Updated Automating calendar 222\n"
     ]
    },
    {
     "data": {
      "text/plain": [
       "'Updated Automating calendar 222'"
      ]
     },
     "execution_count": 54,
     "metadata": {},
     "output_type": "execute_result"
    }
   ],
   "source": [
    "event = CC.get_event(calendarId=\"primary\",iCaiUID=event_result[\"iCalUID\"])\n",
    "event[0][\"summary\"]"
   ]
  },
  {
   "cell_type": "markdown",
   "metadata": {},
   "source": [
    "## Delete Event"
   ]
  },
  {
   "cell_type": "code",
   "execution_count": 55,
   "metadata": {},
   "outputs": [],
   "source": [
    "CC.delete_event(calendarId=\"primary\",eventId = event_result[\"id\"])"
   ]
  },
  {
   "cell_type": "code",
   "execution_count": 56,
   "metadata": {},
   "outputs": [
    {
     "name": "stdout",
     "output_type": "stream",
     "text": [
      "No upcoming events found.\n"
     ]
    },
    {
     "data": {
      "text/plain": [
       "[]"
      ]
     },
     "execution_count": 56,
     "metadata": {},
     "output_type": "execute_result"
    }
   ],
   "source": [
    "CC.get_event(calendarId=\"primary\",iCaiUID=event_result[\"iCalUID\"])"
   ]
  },
  {
   "cell_type": "code",
   "execution_count": null,
   "metadata": {},
   "outputs": [],
   "source": []
  }
 ],
 "metadata": {
  "interpreter": {
   "hash": "5810bcef67f31d12589faaefbf41e70dab9977e620049735851b888bf0ce1990"
  },
  "kernelspec": {
   "display_name": "Python 3.8.12 ('anni')",
   "language": "python",
   "name": "python3"
  },
  "language_info": {
   "codemirror_mode": {
    "name": "ipython",
    "version": 3
   },
   "file_extension": ".py",
   "mimetype": "text/x-python",
   "name": "python",
   "nbconvert_exporter": "python",
   "pygments_lexer": "ipython3",
   "version": "3.8.12"
  },
  "orig_nbformat": 4
 },
 "nbformat": 4,
 "nbformat_minor": 2
}
